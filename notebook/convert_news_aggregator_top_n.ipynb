{
 "cells": [
  {
   "cell_type": "code",
   "execution_count": 1,
   "metadata": {},
   "outputs": [],
   "source": [
    "import json"
   ]
  },
  {
   "cell_type": "code",
   "execution_count": 2,
   "metadata": {},
   "outputs": [],
   "source": [
    "dataset = '/home/nghia/data/datasets/news-clustering/news-aggregator.jsonl'"
   ]
  },
  {
   "cell_type": "code",
   "execution_count": 3,
   "metadata": {},
   "outputs": [],
   "source": [
    "articles = []\n",
    "with open(dataset) as in_f:\n",
    "    for line in in_f:\n",
    "        articles.append(json.loads(line))"
   ]
  },
  {
   "cell_type": "code",
   "execution_count": 4,
   "metadata": {},
   "outputs": [
    {
     "data": {
      "text/plain": [
       "{'id': '173760',\n",
       " 'title': 'Shell boss touts “robust” profits despite drop',\n",
       " 'body': 'Shell boss touts “robust” profits despite drop\\nAnglo-Dutch oil giant Shell touted “robust” profits for the first three months of 2014 today, despite a nearly halving in size compared with the start of last year.\\n\\nFirst quarter earnings in 2014 were $4.5 billion (£2.7bn) compared with $8 billion (£4.7bn) for the first quarter of 2013.\\n\\nChief Executive Ben van Beurden said: “Our first quarter 2014 results reflect more robust levels of profitability. However, as we saw in 2013, we are in an industry where high volatility remains, both in the macro-environment and in our quarterly results.”\\n\\nHe said the year has seen new, profitable production from the deep-water Gulf of Mexico and Iraq along with new LNG from our its new buy from Repsol.\\n\\nExpressing determination to improve Shell’s competitiveness, Mr van Beurden said his firm would balance growth and returns with “better financial performance”, picking projects “selectively” and divesting $15 billion of assets between 2014-15.',\n",
       " 'source': {'name': 'Energy Live News',\n",
       "  'description': 'http://web.archive.org/web/20150817063321/http://www.energylivenews.com/2014/04/30/shell-boss-touts-robust-profits-despite-drop/',\n",
       "  'homePageUrl': 'http://www.energylivenews.com/2014/04/30/shell-boss-touts-robust-profits-despite-drop/',\n",
       "  'domain': 'www.energylivenews.com'},\n",
       " 'entities': {'title': [{'text': 'Shell',\n",
       "    'types': ['Organisation'],\n",
       "    'links': {},\n",
       "    'indices': [{'index': [0, 5]}]}],\n",
       "  'body': [{'text': 'Shell',\n",
       "    'types': ['Organisation'],\n",
       "    'links': {},\n",
       "    'indices': [{'index': [782, 787]}]},\n",
       "   {'text': 'Anglo-Dutch',\n",
       "    'types': ['Organisation'],\n",
       "    'links': {},\n",
       "    'indices': [{'index': [47, 58]}]},\n",
       "   {'text': 'Ben van Beurden',\n",
       "    'types': ['Person'],\n",
       "    'links': {},\n",
       "    'indices': [{'index': [353, 368]}]},\n",
       "   {'text': 'Gulf of Mexico',\n",
       "    'types': ['Location'],\n",
       "    'links': {},\n",
       "    'indices': [{'index': [668, 682]}]},\n",
       "   {'text': 'Iraq',\n",
       "    'types': ['Location'],\n",
       "    'links': {},\n",
       "    'indices': [{'index': [687, 691]}]},\n",
       "   {'text': 'LNG',\n",
       "    'types': ['Organisation'],\n",
       "    'links': {},\n",
       "    'indices': [{'index': [707, 710]}]},\n",
       "   {'text': 'Repsol',\n",
       "    'types': ['Organisation'],\n",
       "    'links': {},\n",
       "    'indices': [{'index': [737, 743]}]},\n",
       "   {'text': 'van Beurden',\n",
       "    'types': ['Person'],\n",
       "    'links': {},\n",
       "    'indices': [{'index': [810, 821]}]}]},\n",
       " 'publishedAt': '2014-04-30T15:33:39.043000',\n",
       " 'clusters': ['0'],\n",
       " 'clustersGuids': ['0']}"
      ]
     },
     "execution_count": 4,
     "metadata": {},
     "output_type": "execute_result"
    }
   ],
   "source": [
    "articles[0]"
   ]
  },
  {
   "cell_type": "code",
   "execution_count": 5,
   "metadata": {},
   "outputs": [],
   "source": [
    "from aylienapiclient import textapi\n",
    "client = textapi.Client(\"6f0c8b31\", \"a6198a07f07f3e4de801137a87ea9c7b\")"
   ]
  },
  {
   "cell_type": "code",
   "execution_count": 26,
   "metadata": {},
   "outputs": [],
   "source": [
    "def clean_sentence(sentence):\n",
    "    return sentence.replace('\\n',' <q> ').replace('\\r',' <q> ')\n",
    "\n",
    "def process_article(art, client):\n",
    "    data = {}\n",
    "    if 'title' in art and art['title'] != '':\n",
    "        data['title'] = art['title']\n",
    "    if 'body' in art and art['body'] != '':\n",
    "        data['text'] = art['body']\n",
    "    for i in range(3):\n",
    "        try:\n",
    "            summary_sentences = client.Summarize(data)['sentences']\n",
    "            break\n",
    "        except:\n",
    "            if i == 2:\n",
    "                print('Tried 3 times, return empty string')\n",
    "                return ''\n",
    "            print('Cannot get summary, trying again')\n",
    "            time.sleep(1)\n",
    "    return ' <q> '.join([clean_sentence(sentence) for sentence in summary_sentences])\n",
    "    "
   ]
  },
  {
   "cell_type": "code",
   "execution_count": 10,
   "metadata": {},
   "outputs": [
    {
     "data": {
      "text/plain": [
       "'Shell boss touts “robust” profits despite drop <q> Anglo-Dutch oil giant Shell touted “robust” profits for the first three months of 2014 today, despite a nearly halving in size compared with the start of last year. <q> First quarter earnings in 2014 were $4.5 billion (£2.7bn) compared with $8 billion (£4.7bn) for the first quarter of 2013. <q> Chief Executive Ben van Beurden said: “Our first quarter 2014 results reflect more robust levels of profitability. <q> He said the year has seen new, profitable production from the deep-water Gulf of Mexico and Iraq along with new LNG from our its new buy from Repsol. <q> Expressing determination to improve Shell’s competitiveness, Mr van Beurden said his firm would balance growth and returns with “better financial performance”, picking projects “selectively” and divesting $15 billion of assets between 2014-15.'"
      ]
     },
     "execution_count": 10,
     "metadata": {},
     "output_type": "execute_result"
    }
   ],
   "source": [
    "process_article(articles[0], client)"
   ]
  },
  {
   "cell_type": "code",
   "execution_count": 27,
   "metadata": {},
   "outputs": [],
   "source": [
    "def create_eval_data(articles, client, k):\n",
    "    num = 0\n",
    "    success = 0\n",
    "    good_arts = []\n",
    "    summaries = []\n",
    "    for art in articles:\n",
    "        summary = process_article(art, client).strip()\n",
    "        if summary != '':\n",
    "            good_arts.append(art)\n",
    "            summaries.append(summary)\n",
    "            success += 1\n",
    "        if success % 20 == 0:\n",
    "            print(success)\n",
    "        if success == k:\n",
    "            break\n",
    "    return good_arts, summaries"
   ]
  },
  {
   "cell_type": "code",
   "execution_count": 28,
   "metadata": {},
   "outputs": [
    {
     "name": "stdout",
     "output_type": "stream",
     "text": [
      "20\n",
      "40\n",
      "60\n",
      "80\n",
      "100\n",
      "120\n",
      "140\n",
      "160\n",
      "180\n",
      "200\n",
      "220\n",
      "240\n",
      "260\n",
      "280\n",
      "300\n",
      "320\n",
      "340\n",
      "360\n",
      "380\n",
      "400\n",
      "420\n",
      "440\n",
      "460\n",
      "480\n",
      "480\n",
      "500\n"
     ]
    }
   ],
   "source": [
    "good_arts, summaries = create_eval_data(articles, client, 500)"
   ]
  },
  {
   "cell_type": "code",
   "execution_count": 29,
   "metadata": {},
   "outputs": [],
   "source": [
    "def print_lines(lines, output_file):\n",
    "    with open(output_file, 'w') as out_f:\n",
    "        for line in lines:\n",
    "            out_f.write(f'{line}\\n')"
   ]
  },
  {
   "cell_type": "code",
   "execution_count": 30,
   "metadata": {},
   "outputs": [],
   "source": [
    "output_dir = '/home/nghia/data/datasets/summarization/news-aggregator-top-n'\n",
    "text_rank_file = output_dir + '/textrank/news-aggregator-500.textrank.cand'"
   ]
  },
  {
   "cell_type": "code",
   "execution_count": 31,
   "metadata": {},
   "outputs": [],
   "source": [
    "print_lines(summaries, text_rank_file)"
   ]
  },
  {
   "cell_type": "code",
   "execution_count": 32,
   "metadata": {},
   "outputs": [],
   "source": [
    "news_format_file = output_dir + '/news/news-aggregator-500.jsonl'"
   ]
  },
  {
   "cell_type": "code",
   "execution_count": 33,
   "metadata": {},
   "outputs": [],
   "source": [
    "with open(news_format_file, 'w') as out_f:\n",
    "    for art in good_arts:\n",
    "        out_f.write(f'{json.dumps(art)}\\n')"
   ]
  },
  {
   "cell_type": "code",
   "execution_count": null,
   "metadata": {},
   "outputs": [],
   "source": []
  }
 ],
 "metadata": {
  "kernelspec": {
   "display_name": "Python (textapi)",
   "language": "python",
   "name": "textapi"
  },
  "language_info": {
   "codemirror_mode": {
    "name": "ipython",
    "version": 3
   },
   "file_extension": ".py",
   "mimetype": "text/x-python",
   "name": "python",
   "nbconvert_exporter": "python",
   "pygments_lexer": "ipython3",
   "version": "3.8.0"
  }
 },
 "nbformat": 4,
 "nbformat_minor": 2
}
